{
  "cells": [
    {
      "cell_type": "code",
      "execution_count": null,
      "metadata": {
        "collapsed": false
      },
      "outputs": [],
      "source": [
        "%matplotlib inline"
      ]
    },
    {
      "cell_type": "markdown",
      "metadata": {},
      "source": [
        "\n# Transfer Learning for Hyperparameter Search\n\n**Author(s)**: Romain Egele.\n"
      ]
    },
    {
      "cell_type": "code",
      "execution_count": null,
      "metadata": {
        "collapsed": false
      },
      "outputs": [],
      "source": [
        "import functools\n\n\ndef run(config: dict, N: int) -> float:\n    y = -sum([config[f\"x{i}\"] ** 2 for i in range(N)])\n    return y\n\n\nrun_small = functools.partial(run, N=1)\nrun_large = functools.partial(run, N=2)"
      ]
    },
    {
      "cell_type": "code",
      "execution_count": null,
      "metadata": {
        "collapsed": false
      },
      "outputs": [],
      "source": [
        "from deephyper.problem import HpProblem\n\n\nN = 1\nproblem_small = HpProblem()\nfor i in range(N):\n    problem_small.add_hyperparameter((-10.0, 10.0), f\"x{i}\")\nproblem_small"
      ]
    },
    {
      "cell_type": "code",
      "execution_count": null,
      "metadata": {
        "collapsed": false
      },
      "outputs": [],
      "source": [
        "N = 2\nproblem_large = HpProblem()\nfor i in range(N):\n    problem_large.add_hyperparameter((-10.0, 10.0), f\"x{i}\")\nproblem_large"
      ]
    },
    {
      "cell_type": "code",
      "execution_count": null,
      "metadata": {
        "collapsed": false
      },
      "outputs": [],
      "source": [
        "from deephyper.evaluator import Evaluator\nfrom deephyper.evaluator.callback import TqdmCallback\nfrom deephyper.search.hps import CBO\n\nresults = {}\nmax_evals = 20\nevaluator_small = Evaluator.create(\n    run_small, method=\"serial\", method_kwargs={\"callbacks\": [TqdmCallback(max_evals)]}\n)\nsearch_small = CBO(problem_small, evaluator_small, random_state=42)\nresults[\"Small\"] = search_small.search(max_evals)"
      ]
    },
    {
      "cell_type": "code",
      "execution_count": null,
      "metadata": {
        "collapsed": false
      },
      "outputs": [],
      "source": [
        "evaluator_large = Evaluator.create(\n    run_large, method=\"serial\", method_kwargs={\"callbacks\": [TqdmCallback(max_evals)]}\n)\nsearch_large = CBO(problem_large, evaluator_large, random_state=42)\nresults[\"Large\"] = search_large.search(max_evals)"
      ]
    },
    {
      "cell_type": "code",
      "execution_count": null,
      "metadata": {
        "collapsed": false
      },
      "outputs": [],
      "source": [
        "evaluator_large_tl = Evaluator.create(\n    run_large, method=\"serial\", method_kwargs={\"callbacks\": [TqdmCallback(max_evals)]}\n)\nsearch_large_tl= CBO(problem_large, evaluator_large_tl, random_state=42)\nsearch_large_tl.fit_generative_model(results[\"Large\"])\nresults[\"Large+TL\"] = search_large_tl.search(max_evals)"
      ]
    },
    {
      "cell_type": "code",
      "execution_count": null,
      "metadata": {
        "collapsed": false
      },
      "outputs": [],
      "source": [
        "import matplotlib.pyplot as plt\n\nplt.figure()\n\nfor strategy, df in results.items():\n    x = [i for i in range(len(df))]\n    plt.scatter(x, df.objective, label=strategy)\n    plt.plot(x, df.objective.cummax())\n\nplt.xlabel(\"Time (sec.)\")\nplt.ylabel(\"Objective\")\nplt.grid()\nplt.legend()\nplt.show()"
      ]
    }
  ],
  "metadata": {
    "kernelspec": {
      "display_name": "Python 3",
      "language": "python",
      "name": "python3"
    },
    "language_info": {
      "codemirror_mode": {
        "name": "ipython",
        "version": 3
      },
      "file_extension": ".py",
      "mimetype": "text/x-python",
      "name": "python",
      "nbconvert_exporter": "python",
      "pygments_lexer": "ipython3",
      "version": "3.9.10"
    }
  },
  "nbformat": 4,
  "nbformat_minor": 0
}