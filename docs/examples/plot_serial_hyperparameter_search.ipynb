{
  "cells": [
    {
      "cell_type": "code",
      "execution_count": null,
      "metadata": {
        "collapsed": false
      },
      "outputs": [],
      "source": [
        "%matplotlib inline"
      ]
    },
    {
      "cell_type": "markdown",
      "metadata": {},
      "source": [
        "\n# Serial Hyperparameter optimization \n\n**Author(s)**: Romain Egele.\n\nThis example demonstrates how to run a serial execution (i.e., not parallel) of hyperparameter optimization. We start by defining the black-box function we want to optimize. For the purpose of simplicity we start by optimizing (maximising) the $y = -x^2$ function. This black-box function is often named ``run``-function inside DeepHyper. It takes as first argument an input-dictionnary ``config`` with a set of particular variable choices. It returns a single-scalar value which is maximised by DeepHyper.\n"
      ]
    },
    {
      "cell_type": "code",
      "execution_count": null,
      "metadata": {
        "collapsed": false
      },
      "outputs": [],
      "source": [
        "def run(config: dict) -> float:\n    return -config[\"x\"] ** 2"
      ]
    },
    {
      "cell_type": "markdown",
      "metadata": {},
      "source": [
        "Then we define the variable(s) we want to optimize. In our case we have a single variable $x$ and we # define a input space in the $[-10,10]$ continuous interval by providing boundaries with ``float`` \ntypes.\n\n"
      ]
    },
    {
      "cell_type": "code",
      "execution_count": null,
      "metadata": {
        "collapsed": false
      },
      "outputs": [],
      "source": [
        "from deephyper.problem import HpProblem\n\n\nproblem = HpProblem()\nproblem.add_hyperparameter((-10.0, 10.0), \"x\")\n\nprint(problem)"
      ]
    },
    {
      "cell_type": "markdown",
      "metadata": {},
      "source": [
        "Then we define the evaluator which handles the execution of the black-box function. We decide to use the\n``method=\"serial\"`` which executes one run-function evaluation at a time without parallelism. We also\nprovide the ``TqdmCallback`` to have an interactive feedback on the advancement of the search.\n\n"
      ]
    },
    {
      "cell_type": "code",
      "execution_count": null,
      "metadata": {
        "collapsed": false
      },
      "outputs": [],
      "source": [
        "from deephyper.evaluator import Evaluator\nfrom deephyper.evaluator.callback import TqdmCallback\n\n\nmax_evals = 25\nevaluator = Evaluator.create(\n    run, method=\"serial\", method_kwargs={\"callbacks\": [TqdmCallback(max_evals)]}\n)"
      ]
    },
    {
      "cell_type": "markdown",
      "metadata": {},
      "source": [
        "Then, we define a centralized Bayesian optimization (CBO) search (i.e., master-worker architecture) where we decide to use the Gaussian-Process regressor which is efficient for few-serial iterations of Bayesian optimization.\n\n"
      ]
    },
    {
      "cell_type": "code",
      "execution_count": null,
      "metadata": {
        "collapsed": false
      },
      "outputs": [],
      "source": [
        "from deephyper.search.hps import CBO\n\n\nsearch = CBO(problem, evaluator, surrogate_model=\"GP\", random_state=42)\nresults = search.search(max_evals)\n\nprint(results)"
      ]
    },
    {
      "cell_type": "markdown",
      "metadata": {},
      "source": [
        "A Pandas DataFrame is returned by the search from which we can plot the results.\n\n"
      ]
    },
    {
      "cell_type": "code",
      "execution_count": null,
      "metadata": {
        "collapsed": false
      },
      "outputs": [],
      "source": [
        "import matplotlib.pyplot as plt\n\n\nplt.figure()\nplt.scatter(list(range(max_evals)), results.objective)\nplt.xlabel(r\"Iterations\")\nplt.ylabel(r\"$-x^2$\")\nplt.show()"
      ]
    }
  ],
  "metadata": {
    "kernelspec": {
      "display_name": "Python 3",
      "language": "python",
      "name": "python3"
    },
    "language_info": {
      "codemirror_mode": {
        "name": "ipython",
        "version": 3
      },
      "file_extension": ".py",
      "mimetype": "text/x-python",
      "name": "python",
      "nbconvert_exporter": "python",
      "pygments_lexer": "ipython3",
      "version": "3.8.13"
    }
  },
  "nbformat": 4,
  "nbformat_minor": 0
}